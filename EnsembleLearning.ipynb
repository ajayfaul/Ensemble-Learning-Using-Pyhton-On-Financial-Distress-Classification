{
 "cells": [
  {
   "cell_type": "markdown",
   "metadata": {},
   "source": [
    "#### Program UAS FINAL Pemodelan dan Simulasi\n",
    "\n",
    "Dibuat oleh:\n",
    "\n",
    "NIM: 10116490\n",
    "\n",
    "Nama: Muhammad Fajar Maulana\n",
    "\n",
    "Kelas: MOSI_IF-3"
   ]
  },
  {
   "cell_type": "markdown",
   "metadata": {},
   "source": [
    "Hal pertama yang dilakukan adalah dengan menyiapkan atau mengimport library yang diperlukan seperti numpy dan pandas. dengan memanggil library yang sudah diinstall pada paket python anaconda.\n"
   ]
  },
  {
   "cell_type": "code",
   "execution_count": 1,
   "metadata": {},
   "outputs": [],
   "source": [
    "# AUTHOR: muhammadfajarm@gmail.com\n",
    "# Mengimport library yang mendasar yang diperlukan\n",
    "import pandas as pd\n",
    "import numpy as np\n",
    "import matplotlib.pyplot as plt\n",
    "import warnings\n",
    "warnings.filterwarnings(\"ignore\")\n",
    "\n",
    "from sklearn import preprocessing\n",
    "from sklearn import datasets\n",
    "from sklearn.ensemble import VotingClassifier\n",
    "from sklearn.model_selection import train_test_split, KFold, cross_val_score\n",
    "from sklearn.metrics import classification_report, confusion_matrix, accuracy_score, roc_auc_score, roc_curve\n",
    "import seaborn as sns\n",
    "%matplotlib inline\n"
   ]
  },
  {
   "cell_type": "code",
   "execution_count": 2,
   "metadata": {},
   "outputs": [],
   "source": [
    "# Mengimport library yang diperlukan untuk Pengklasifikasian menggunakan machine learning\n",
    "\n",
    "# Boosting\n",
    "# 1.Ensemble Boosting Ada Boost\n",
    "from sklearn.ensemble import AdaBoostClassifier\n",
    "\n",
    "# 2.Logistic Regression\n",
    "from sklearn.linear_model import LogisticRegression\n",
    "\n",
    "# 3.Support Vector Machine\n",
    "from sklearn.svm import SVC\n",
    "\n",
    "# 4.Artificial Neural Network\n",
    "from sklearn.neural_network import MLPClassifier"
   ]
  },
  {
   "cell_type": "code",
   "execution_count": 3,
   "metadata": {},
   "outputs": [
    {
     "data": {
      "text/html": [
       "<div>\n",
       "<style scoped>\n",
       "    .dataframe tbody tr th:only-of-type {\n",
       "        vertical-align: middle;\n",
       "    }\n",
       "\n",
       "    .dataframe tbody tr th {\n",
       "        vertical-align: top;\n",
       "    }\n",
       "\n",
       "    .dataframe thead th {\n",
       "        text-align: right;\n",
       "    }\n",
       "</style>\n",
       "<table border=\"1\" class=\"dataframe\">\n",
       "  <thead>\n",
       "    <tr style=\"text-align: right;\">\n",
       "      <th></th>\n",
       "      <th>X1</th>\n",
       "      <th>X2</th>\n",
       "      <th>X3</th>\n",
       "      <th>X4</th>\n",
       "      <th>Z-Score</th>\n",
       "      <th>Class</th>\n",
       "    </tr>\n",
       "  </thead>\n",
       "  <tbody>\n",
       "    <tr>\n",
       "      <td>0</td>\n",
       "      <td>0.8856</td>\n",
       "      <td>0.0166</td>\n",
       "      <td>0.0219</td>\n",
       "      <td>0.2726</td>\n",
       "      <td>6.2967</td>\n",
       "      <td>2</td>\n",
       "    </tr>\n",
       "    <tr>\n",
       "      <td>1</td>\n",
       "      <td>0.8888</td>\n",
       "      <td>0.0064</td>\n",
       "      <td>0.0072</td>\n",
       "      <td>0.1418</td>\n",
       "      <td>6.0484</td>\n",
       "      <td>2</td>\n",
       "    </tr>\n",
       "    <tr>\n",
       "      <td>2</td>\n",
       "      <td>0.8441</td>\n",
       "      <td>0.0156</td>\n",
       "      <td>0.0157</td>\n",
       "      <td>0.1915</td>\n",
       "      <td>5.8949</td>\n",
       "      <td>2</td>\n",
       "    </tr>\n",
       "    <tr>\n",
       "      <td>3</td>\n",
       "      <td>0.8660</td>\n",
       "      <td>0.0211</td>\n",
       "      <td>0.0109</td>\n",
       "      <td>0.1651</td>\n",
       "      <td>5.9962</td>\n",
       "      <td>2</td>\n",
       "    </tr>\n",
       "    <tr>\n",
       "      <td>4</td>\n",
       "      <td>0.8486</td>\n",
       "      <td>0.0194</td>\n",
       "      <td>0.0031</td>\n",
       "      <td>0.1310</td>\n",
       "      <td>5.7887</td>\n",
       "      <td>2</td>\n",
       "    </tr>\n",
       "    <tr>\n",
       "      <td>5</td>\n",
       "      <td>0.7731</td>\n",
       "      <td>0.0118</td>\n",
       "      <td>0.0069</td>\n",
       "      <td>0.0901</td>\n",
       "      <td>5.2514</td>\n",
       "      <td>2</td>\n",
       "    </tr>\n",
       "    <tr>\n",
       "      <td>6</td>\n",
       "      <td>0.8109</td>\n",
       "      <td>0.0155</td>\n",
       "      <td>0.0081</td>\n",
       "      <td>0.0898</td>\n",
       "      <td>5.5190</td>\n",
       "      <td>2</td>\n",
       "    </tr>\n",
       "    <tr>\n",
       "      <td>7</td>\n",
       "      <td>0.8197</td>\n",
       "      <td>0.0149</td>\n",
       "      <td>0.0059</td>\n",
       "      <td>0.0960</td>\n",
       "      <td>5.5658</td>\n",
       "      <td>2</td>\n",
       "    </tr>\n",
       "    <tr>\n",
       "      <td>8</td>\n",
       "      <td>0.8481</td>\n",
       "      <td>0.0156</td>\n",
       "      <td>0.0073</td>\n",
       "      <td>0.1085</td>\n",
       "      <td>5.7775</td>\n",
       "      <td>2</td>\n",
       "    </tr>\n",
       "    <tr>\n",
       "      <td>9</td>\n",
       "      <td>0.8341</td>\n",
       "      <td>0.0210</td>\n",
       "      <td>0.0097</td>\n",
       "      <td>0.1093</td>\n",
       "      <td>5.7199</td>\n",
       "      <td>2</td>\n",
       "    </tr>\n",
       "  </tbody>\n",
       "</table>\n",
       "</div>"
      ],
      "text/plain": [
       "       X1      X2      X3      X4  Z-Score  Class\n",
       "0  0.8856  0.0166  0.0219  0.2726   6.2967      2\n",
       "1  0.8888  0.0064  0.0072  0.1418   6.0484      2\n",
       "2  0.8441  0.0156  0.0157  0.1915   5.8949      2\n",
       "3  0.8660  0.0211  0.0109  0.1651   5.9962      2\n",
       "4  0.8486  0.0194  0.0031  0.1310   5.7887      2\n",
       "5  0.7731  0.0118  0.0069  0.0901   5.2514      2\n",
       "6  0.8109  0.0155  0.0081  0.0898   5.5190      2\n",
       "7  0.8197  0.0149  0.0059  0.0960   5.5658      2\n",
       "8  0.8481  0.0156  0.0073  0.1085   5.7775      2\n",
       "9  0.8341  0.0210  0.0097  0.1093   5.7199      2"
      ]
     },
     "execution_count": 3,
     "metadata": {},
     "output_type": "execute_result"
    }
   ],
   "source": [
    "# Import Datasets 1: BUS1216 (Bank Umum Syariah 2012-2016)\n",
    "df1216 = pd.read_csv('datasets/bankumumsyariah1216.csv')\n",
    "\n",
    "# Memilih fitur yang akan digunakan dimana X adalah nilai dari kolom X1 sampai Z-Score , \n",
    "# dan Y adalah data target dari class.\n",
    "feature_cols = ['X1','X2','X3','X4','Z-Score']\n",
    "X = df1216[feature_cols]\n",
    "y = df1216.Class\n",
    "#Menampilkan datasets\n",
    "df1216.head(10)"
   ]
  },
  {
   "cell_type": "code",
   "execution_count": 4,
   "metadata": {},
   "outputs": [],
   "source": [
    "# Membagi dataset kedalam training set dan test set\n",
    "X_train, X_test, y_train, y_test = train_test_split (X, y, test_size=0.50, random_state=47)"
   ]
  },
  {
   "cell_type": "code",
   "execution_count": 5,
   "metadata": {},
   "outputs": [
    {
     "data": {
      "text/plain": [
       "(1.0, 1.0)"
      ]
     },
     "execution_count": 5,
     "metadata": {},
     "output_type": "execute_result"
    }
   ],
   "source": [
    "#Menjalankan based learn Logistic Regression\n",
    "logregclf1216 = LogisticRegression()\n",
    "logregclf1216.fit(X_train, y_train)\n",
    "logregclf1216_y_pred = logregclf1216.predict(X_test)\n",
    "\n",
    "# Menscore hasil dari Logistic Regression\n",
    "logregclf1216.score(X_train, y_train), logregclf1216.score(X_test, y_test)"
   ]
  },
  {
   "cell_type": "code",
   "execution_count": 6,
   "metadata": {},
   "outputs": [
    {
     "name": "stdout",
     "output_type": "stream",
     "text": [
      "[[28]] Accuracy:  100.0\n"
     ]
    }
   ],
   "source": [
    "# Menampilkan akurasi dan confusion matrix dari Logistic Regression\n",
    "conf_matrix_logregclf1216 = confusion_matrix(y_test, logregclf1216_y_pred)\n",
    "logregclf1216_accuracy = accuracy_score(y_test, logregclf1216_y_pred)\n",
    "print(conf_matrix_logregclf1216, \"Accuracy: \" , logregclf1216_accuracy*100)"
   ]
  },
  {
   "cell_type": "code",
   "execution_count": 7,
   "metadata": {},
   "outputs": [
    {
     "name": "stdout",
     "output_type": "stream",
     "text": [
      "              precision    recall  f1-score   support\n",
      "\n",
      "           2       1.00      1.00      1.00        28\n",
      "\n",
      "    accuracy                           1.00        28\n",
      "   macro avg       1.00      1.00      1.00        28\n",
      "weighted avg       1.00      1.00      1.00        28\n",
      "\n"
     ]
    }
   ],
   "source": [
    "print(classification_report(y_test,logregclf1216_y_pred))"
   ]
  },
  {
   "cell_type": "code",
   "execution_count": 8,
   "metadata": {},
   "outputs": [],
   "source": [
    "#Menjalankan based Learn Support Vector Machine\n",
    "svmclf1216 = SVC(gamma=\"auto\", random_state=42)\n",
    "svmclf1216.fit(X_train, y_train)\n",
    "svmclf1216_y_pred = svmclf1216.predict(X_test)"
   ]
  },
  {
   "cell_type": "code",
   "execution_count": 9,
   "metadata": {},
   "outputs": [
    {
     "data": {
      "text/plain": [
       "(1.0, 1.0)"
      ]
     },
     "execution_count": 9,
     "metadata": {},
     "output_type": "execute_result"
    }
   ],
   "source": [
    "# Menscore hasil dari Support Vector Machine\n",
    "svmclf1216.score(X_train, y_train), svmclf1216.score(X_test, y_test)"
   ]
  },
  {
   "cell_type": "code",
   "execution_count": 10,
   "metadata": {},
   "outputs": [
    {
     "name": "stdout",
     "output_type": "stream",
     "text": [
      "[[28]] Accuracy:  100.0\n"
     ]
    }
   ],
   "source": [
    "# Menampilkan akurasi dan confusion matrix dari Support Vector Machine\n",
    "conf_matrix_svmclf1216 = confusion_matrix(y_test, svmclf1216_y_pred)\n",
    "svmclf1216_accuracy = accuracy_score(y_test, svmclf1216_y_pred)\n",
    "print(conf_matrix_svmclf1216, \"Accuracy: \" , svmclf1216_accuracy*100)"
   ]
  },
  {
   "cell_type": "code",
   "execution_count": 11,
   "metadata": {},
   "outputs": [
    {
     "name": "stdout",
     "output_type": "stream",
     "text": [
      "              precision    recall  f1-score   support\n",
      "\n",
      "           2       1.00      1.00      1.00        28\n",
      "\n",
      "    accuracy                           1.00        28\n",
      "   macro avg       1.00      1.00      1.00        28\n",
      "weighted avg       1.00      1.00      1.00        28\n",
      "\n"
     ]
    }
   ],
   "source": [
    "print(classification_report(y_test,svmclf1216_y_pred))"
   ]
  },
  {
   "cell_type": "code",
   "execution_count": 12,
   "metadata": {},
   "outputs": [],
   "source": [
    "#Menjalankan based learn Artificial Neural Network\n",
    "annclf1216 = MLPClassifier(hidden_layer_sizes=(6, 3), max_iter=300)\n",
    "annclf1216.fit(X_train, y_train)\n",
    "annclf1216_y_pred = annclf1216.predict(X_test)"
   ]
  },
  {
   "cell_type": "code",
   "execution_count": 13,
   "metadata": {},
   "outputs": [
    {
     "data": {
      "text/plain": [
       "(1.0, 1.0)"
      ]
     },
     "execution_count": 13,
     "metadata": {},
     "output_type": "execute_result"
    }
   ],
   "source": [
    "# Menscore hasil dari Support Vector Machine\n",
    "annclf1216.score(X_train, y_train), annclf1216.score(X_test, y_test)"
   ]
  },
  {
   "cell_type": "code",
   "execution_count": 14,
   "metadata": {},
   "outputs": [
    {
     "name": "stdout",
     "output_type": "stream",
     "text": [
      "[[28]] Accuracy:  100.0\n"
     ]
    }
   ],
   "source": [
    "# Menampilkan akurasi dan confusion matrix dari Support Vector Machine\n",
    "conf_matrix_annclf1216 = confusion_matrix(y_test, annclf1216_y_pred)\n",
    "annclf1216_accuracy = accuracy_score(y_test, annclf1216_y_pred)\n",
    "print(conf_matrix_annclf1216, \"Accuracy: \" , annclf1216_accuracy*100)"
   ]
  },
  {
   "cell_type": "code",
   "execution_count": 15,
   "metadata": {},
   "outputs": [
    {
     "name": "stdout",
     "output_type": "stream",
     "text": [
      "              precision    recall  f1-score   support\n",
      "\n",
      "           2       1.00      1.00      1.00        28\n",
      "\n",
      "    accuracy                           1.00        28\n",
      "   macro avg       1.00      1.00      1.00        28\n",
      "weighted avg       1.00      1.00      1.00        28\n",
      "\n"
     ]
    }
   ],
   "source": [
    "print(classification_report(y_test, annclf1216_y_pred))"
   ]
  },
  {
   "cell_type": "code",
   "execution_count": 16,
   "metadata": {},
   "outputs": [],
   "source": [
    "#Menjalankan Ensemble Boosting\n",
    "boostclf1216 = AdaBoostClassifier()\n",
    "boostclf1216.fit(X_train, y_train)\n",
    "boostclf1216_y_pred = boostclf1216.predict(X_test)"
   ]
  },
  {
   "cell_type": "code",
   "execution_count": 17,
   "metadata": {},
   "outputs": [
    {
     "data": {
      "text/plain": [
       "(1.0, 0.9285714285714286)"
      ]
     },
     "execution_count": 17,
     "metadata": {},
     "output_type": "execute_result"
    }
   ],
   "source": [
    "# Menscore hasil dari Ensemble Boosting\n",
    "boostclf1216.score(X_train, y_train), boostclf1216.score(X_test, y_test)"
   ]
  },
  {
   "cell_type": "code",
   "execution_count": 18,
   "metadata": {},
   "outputs": [
    {
     "name": "stdout",
     "output_type": "stream",
     "text": [
      "[[ 0  0]\n",
      " [ 2 26]] Accuracy:  92.85714285714286\n"
     ]
    }
   ],
   "source": [
    "# Menampilkan akurasi dan confusion matrix dari Support Vector Machine\n",
    "conf_matrix_boostclf1216 = confusion_matrix(y_test, boostclf1216_y_pred)\n",
    "boostclf1216_accuracy = accuracy_score(y_test, boostclf1216_y_pred)\n",
    "print(conf_matrix_boostclf1216, \"Accuracy: \" , boostclf1216_accuracy*100)"
   ]
  },
  {
   "cell_type": "code",
   "execution_count": 19,
   "metadata": {},
   "outputs": [
    {
     "name": "stdout",
     "output_type": "stream",
     "text": [
      "              precision    recall  f1-score   support\n",
      "\n",
      "           0       0.00      0.00      0.00         0\n",
      "           2       1.00      0.93      0.96        28\n",
      "\n",
      "    accuracy                           0.93        28\n",
      "   macro avg       0.50      0.46      0.48        28\n",
      "weighted avg       1.00      0.93      0.96        28\n",
      "\n"
     ]
    }
   ],
   "source": [
    "print(classification_report(y_test, boostclf1216_y_pred))"
   ]
  },
  {
   "cell_type": "code",
   "execution_count": 20,
   "metadata": {},
   "outputs": [
    {
     "data": {
      "text/plain": [
       "(1.0, 1.0)"
      ]
     },
     "execution_count": 20,
     "metadata": {},
     "output_type": "execute_result"
    }
   ],
   "source": [
    "# Melakukan voting untuk melihat score terbaik dari model yang dibangun\n",
    "voting = VotingClassifier(estimators=[('logregclf1216', logregclf1216), ('svmclf1216', svmclf1216), ('annclf1216', annclf1216), ('boostclf1216', boostclf1216)], voting='hard')\n",
    "voting.fit(X_train, y_train)\n",
    "voting_pred = voting.predict(X_test)\n",
    "# Menscore hasil dari Voting Classifier\n",
    "voting.score(X_train, y_train), voting.score(X_test, y_test)"
   ]
  },
  {
   "cell_type": "code",
   "execution_count": 184,
   "metadata": {},
   "outputs": [
    {
     "data": {
      "image/png": "[encoded data removed]",
      "text/plain": [
       "<Figure size 432x288 with 1 Axes>"
      ]
     },
     "metadata": {
      "needs_background": "light"
     },
     "output_type": "display_data"
    }
   ],
   "source": [
    "#Menampilkan grafik perbadingan score accuracy yang dihasilkan dari masing masing metode yang digunakan\n",
    "accuracytraining = [logregclf1216.score(X_train, y_train), svmclf1216.score(X_train, y_train), annclf1216.score(X_train, y_train), boostclf1216.score(X_train, y_train)]\n",
    "bars = ('Logistic Regression', 'SVM', 'ANN', 'Boosting')\n",
    "y_pos = np.arange(len(bars))\n",
    " \n",
    "\n",
    "# Menambahkan grafik batang\n",
    "plt.bar(y_pos, accuracytraining)\n",
    "\n",
    "# Menambahkan judul pada grafik\n",
    "plt.title('Pengujian terhadap data train dataset Bank Umum Syariah 2012-2016')\n",
    "\n",
    "# Menambahkan label pada grafik\n",
    "plt.xlabel('Method / Model')\n",
    "plt.ylabel('Accuracy Score')\n",
    " \n",
    "# Menambahkan label untuk x axis dari variabel yang telah ditentukan\n",
    "plt.xticks(y_pos, bars)\n",
    " \n",
    "# Menampilkan grafik\n",
    "plt.show()\n",
    "\n"
   ]
  },
  {
   "cell_type": "code",
   "execution_count": 186,
   "metadata": {},
   "outputs": [
    {
     "data": {
      "image/png": "[encoded data removed]",
      "text/plain": [
       "<Figure size 432x288 with 1 Axes>"
      ]
     },
     "metadata": {
      "needs_background": "light"
     },
     "output_type": "display_data"
    }
   ],
   "source": [
    "#Menampilkan grafik perbadingan score accuracy yang dihasilkan dari masing masing metode yang digunakan\n",
    "\n",
    "#Variabel untuk plotting pada grafik batang\n",
    "accuracytesting = [logregclf1216.score(X_test, y_test), svmclf1216.score(X_test, y_test), annclf1216.score(X_test, y_test), boostclf1216.score(X_test, y_test)]\n",
    "bars = ('Logistic Regression', 'SVM', 'ANN', 'Boosting')\n",
    "y_pos = np.arange(len(bars))\n",
    " \n",
    "\n",
    "# Menambahkan grafik batang\n",
    "plt.bar(y_pos, accuracytesting)\n",
    "\n",
    "# Menambahkan judul pada grafik\n",
    "plt.title('Pengujian terhadap data testing dataset Bank Umum Syariah 2012-2016')\n",
    "\n",
    "# Menambahkan label pada grafik\n",
    "plt.xlabel('Method / Model')\n",
    "plt.ylabel('Accuracy Score')\n",
    " \n",
    "# Menambahkan label untuk x axis dari variabel yang telah ditentukan\n",
    "plt.xticks(y_pos, bars)\n",
    " \n",
    "# Menampilkan grafik\n",
    "plt.show()\n"
   ]
  },
  {
   "cell_type": "code",
   "execution_count": 23,
   "metadata": {},
   "outputs": [
    {
     "data": {
      "text/html": [
       "<div>\n",
       "<style scoped>\n",
       "    .dataframe tbody tr th:only-of-type {\n",
       "        vertical-align: middle;\n",
       "    }\n",
       "\n",
       "    .dataframe tbody tr th {\n",
       "        vertical-align: top;\n",
       "    }\n",
       "\n",
       "    .dataframe thead th {\n",
       "        text-align: right;\n",
       "    }\n",
       "</style>\n",
       "<table border=\"1\" class=\"dataframe\">\n",
       "  <thead>\n",
       "    <tr style=\"text-align: right;\">\n",
       "      <th></th>\n",
       "      <th>NO.</th>\n",
       "      <th>Bank</th>\n",
       "      <th>X1</th>\n",
       "      <th>X2</th>\n",
       "      <th>X3</th>\n",
       "      <th>X4</th>\n",
       "      <th>X5</th>\n",
       "      <th>Z-Score</th>\n",
       "      <th>Class</th>\n",
       "    </tr>\n",
       "  </thead>\n",
       "  <tbody>\n",
       "    <tr>\n",
       "      <td>0</td>\n",
       "      <td>1</td>\n",
       "      <td>PT. Kalbe Farma,Tbk</td>\n",
       "      <td>0.5148</td>\n",
       "      <td>0.938</td>\n",
       "      <td>0.726</td>\n",
       "      <td>1.806</td>\n",
       "      <td>1.40860</td>\n",
       "      <td>5.39</td>\n",
       "      <td>Healthy</td>\n",
       "    </tr>\n",
       "    <tr>\n",
       "      <td>1</td>\n",
       "      <td>2</td>\n",
       "      <td>PT. Mayora Indah,Tbk</td>\n",
       "      <td>0.4692</td>\n",
       "      <td>0.490</td>\n",
       "      <td>0.429</td>\n",
       "      <td>0.408</td>\n",
       "      <td>1.22880</td>\n",
       "      <td>3.02</td>\n",
       "      <td>Healthy</td>\n",
       "    </tr>\n",
       "    <tr>\n",
       "      <td>2</td>\n",
       "      <td>3</td>\n",
       "      <td>PT. Merek,Tbk</td>\n",
       "      <td>0.7572</td>\n",
       "      <td>0.938</td>\n",
       "      <td>1.089</td>\n",
       "      <td>1.662</td>\n",
       "      <td>1.70830</td>\n",
       "      <td>6.15</td>\n",
       "      <td>Healthy</td>\n",
       "    </tr>\n",
       "    <tr>\n",
       "      <td>3</td>\n",
       "      <td>4</td>\n",
       "      <td>PT. Sekar Bumi,Tbk</td>\n",
       "      <td>0.1620</td>\n",
       "      <td>0.210</td>\n",
       "      <td>0.495</td>\n",
       "      <td>0.402</td>\n",
       "      <td>2.59740</td>\n",
       "      <td>3.87</td>\n",
       "      <td>Healthy</td>\n",
       "    </tr>\n",
       "    <tr>\n",
       "      <td>4</td>\n",
       "      <td>5</td>\n",
       "      <td>PT. Pyridam Farma,Tbk</td>\n",
       "      <td>0.1788</td>\n",
       "      <td>0.294</td>\n",
       "      <td>0.132</td>\n",
       "      <td>0.690</td>\n",
       "      <td>1.08890</td>\n",
       "      <td>2.38</td>\n",
       "      <td>GreyArea</td>\n",
       "    </tr>\n",
       "    <tr>\n",
       "      <td>5</td>\n",
       "      <td>6</td>\n",
       "      <td>PT. Siantar Top, Tbk</td>\n",
       "      <td>0.0580</td>\n",
       "      <td>0.518</td>\n",
       "      <td>0.297</td>\n",
       "      <td>0.534</td>\n",
       "      <td>1.14890</td>\n",
       "      <td>2.57</td>\n",
       "      <td>GreyArea</td>\n",
       "    </tr>\n",
       "    <tr>\n",
       "      <td>6</td>\n",
       "      <td>7</td>\n",
       "      <td>PT. Sekar Laut,Tbk</td>\n",
       "      <td>0.1164</td>\n",
       "      <td>0.224</td>\n",
       "      <td>0.165</td>\n",
       "      <td>0.516</td>\n",
       "      <td>1.86810</td>\n",
       "      <td>2.89</td>\n",
       "      <td>GreyArea</td>\n",
       "    </tr>\n",
       "    <tr>\n",
       "      <td>7</td>\n",
       "      <td>1</td>\n",
       "      <td>PT. Kalbe Farma,Tbk</td>\n",
       "      <td>0.5532</td>\n",
       "      <td>0.994</td>\n",
       "      <td>0.726</td>\n",
       "      <td>2.184</td>\n",
       "      <td>1.38861</td>\n",
       "      <td>5.85</td>\n",
       "      <td>Healthy</td>\n",
       "    </tr>\n",
       "    <tr>\n",
       "      <td>8</td>\n",
       "      <td>2</td>\n",
       "      <td>PT. Mayora Indah,Tbk</td>\n",
       "      <td>0.3948</td>\n",
       "      <td>0.476</td>\n",
       "      <td>0.165</td>\n",
       "      <td>0.390</td>\n",
       "      <td>1.36863</td>\n",
       "      <td>2.79</td>\n",
       "      <td>GreyArea</td>\n",
       "    </tr>\n",
       "    <tr>\n",
       "      <td>9</td>\n",
       "      <td>3</td>\n",
       "      <td>PT. Merek,Tbk</td>\n",
       "      <td>0.7848</td>\n",
       "      <td>0.980</td>\n",
       "      <td>0.924</td>\n",
       "      <td>1.956</td>\n",
       "      <td>1.20879</td>\n",
       "      <td>5.85</td>\n",
       "      <td>Healthy</td>\n",
       "    </tr>\n",
       "  </tbody>\n",
       "</table>\n",
       "</div>"
      ],
      "text/plain": [
       "   NO.                    Bank      X1     X2     X3     X4       X5  Z-Score  \\\n",
       "0    1    PT. Kalbe Farma,Tbk   0.5148  0.938  0.726  1.806  1.40860     5.39   \n",
       "1    2   PT. Mayora Indah,Tbk   0.4692  0.490  0.429  0.408  1.22880     3.02   \n",
       "2    3          PT. Merek,Tbk   0.7572  0.938  1.089  1.662  1.70830     6.15   \n",
       "3    4     PT. Sekar Bumi,Tbk   0.1620  0.210  0.495  0.402  2.59740     3.87   \n",
       "4    5  PT. Pyridam Farma,Tbk   0.1788  0.294  0.132  0.690  1.08890     2.38   \n",
       "5    6   PT. Siantar Top, Tbk   0.0580  0.518  0.297  0.534  1.14890     2.57   \n",
       "6    7     PT. Sekar Laut,Tbk   0.1164  0.224  0.165  0.516  1.86810     2.89   \n",
       "7    1    PT. Kalbe Farma,Tbk   0.5532  0.994  0.726  2.184  1.38861     5.85   \n",
       "8    2   PT. Mayora Indah,Tbk   0.3948  0.476  0.165  0.390  1.36863     2.79   \n",
       "9    3          PT. Merek,Tbk   0.7848  0.980  0.924  1.956  1.20879     5.85   \n",
       "\n",
       "      Class  \n",
       "0   Healthy  \n",
       "1   Healthy  \n",
       "2   Healthy  \n",
       "3   Healthy  \n",
       "4  GreyArea  \n",
       "5  GreyArea  \n",
       "6  GreyArea  \n",
       "7   Healthy  \n",
       "8  GreyArea  \n",
       "9   Healthy  "
      ]
     },
     "execution_count": 23,
     "metadata": {},
     "output_type": "execute_result"
    }
   ],
   "source": [
    "# Import Datasets Consumer Goods/Barang Konsumen di Indonesia tahun (2013-2017)\n",
    "bk1317 = pd.read_csv('datasets/barangkonsumen1317.csv')\n",
    "\n",
    "# Memilih fitur yang akan digunakan dimana X adalah nilai dari kolom X1 sampai Z-Score , \n",
    "# dan Y adalah data target dari class.\n",
    "feature_cols2 = ['X1','X2','X3','X4','X5','Z-Score']\n",
    "Xbk1317 = bk1317[feature_cols2]\n",
    "ybk1317 = bk1317.Class\n",
    "# Menampilkan datasets\n",
    "bk1317.head(10)"
   ]
  },
  {
   "cell_type": "code",
   "execution_count": 24,
   "metadata": {},
   "outputs": [],
   "source": [
    "# Membagi dataset kedalam training set dan test set\n",
    "Xbk1317_train, Xbk1317_test, ybk1317_train, ybk1317_test = train_test_split (Xbk1317, ybk1317, test_size=0.30, random_state=0)"
   ]
  },
  {
   "cell_type": "code",
   "execution_count": 25,
   "metadata": {},
   "outputs": [],
   "source": [
    "#Menjalankan Logistic Regression\n",
    "logregbk1317 = LogisticRegression(random_state=42)\n",
    "logregbk1317.fit(Xbk1317_train, ybk1317_train)\n",
    "logregbk1317_y_pred = logregbk1317.predict(Xbk1317_test)"
   ]
  },
  {
   "cell_type": "code",
   "execution_count": 26,
   "metadata": {},
   "outputs": [
    {
     "data": {
      "text/plain": [
       "(0.7916666666666666, 0.9090909090909091)"
      ]
     },
     "execution_count": 26,
     "metadata": {},
     "output_type": "execute_result"
    }
   ],
   "source": [
    "# Menscore hasil dari Logistic Regression\n",
    "logregbk1317.score(Xbk1317_train, ybk1317_train), logregbk1317.score(Xbk1317_test, ybk1317_test)"
   ]
  },
  {
   "cell_type": "code",
   "execution_count": 27,
   "metadata": {},
   "outputs": [
    {
     "name": "stdout",
     "output_type": "stream",
     "text": [
      "[[ 0  1]\n",
      " [ 0 10]] Accuracy:  90.9090909090909\n"
     ]
    }
   ],
   "source": [
    "# Menampilkan akurasi dan confusion matrix dari Logistic Regression\n",
    "conf_matrix_logregbk1317 = confusion_matrix(ybk1317_test, logregbk1317_y_pred)\n",
    "logregbk1317_accuracy = accuracy_score(ybk1317_test, logregbk1317_y_pred)\n",
    "print(conf_matrix_logregbk1317, \"Accuracy: \" , logregbk1317_accuracy*100)"
   ]
  },
  {
   "cell_type": "code",
   "execution_count": 28,
   "metadata": {},
   "outputs": [
    {
     "name": "stdout",
     "output_type": "stream",
     "text": [
      "              precision    recall  f1-score   support\n",
      "\n",
      "    GreyArea       0.00      0.00      0.00         1\n",
      "     Healthy       0.91      1.00      0.95        10\n",
      "\n",
      "    accuracy                           0.91        11\n",
      "   macro avg       0.45      0.50      0.48        11\n",
      "weighted avg       0.83      0.91      0.87        11\n",
      "\n"
     ]
    }
   ],
   "source": [
    "print(classification_report(ybk1317_test, logregbk1317_y_pred))"
   ]
  },
  {
   "cell_type": "code",
   "execution_count": 29,
   "metadata": {},
   "outputs": [],
   "source": [
    "#Menjalankan based Learn Support Vector Machine\n",
    "svmbk1317 = SVC(gamma=\"auto\", random_state=123)\n",
    "svmbk1317.fit(Xbk1317_train, ybk1317_train)\n",
    "svmbk1317_y_pred = svmbk1317.predict(Xbk1317_test)"
   ]
  },
  {
   "cell_type": "code",
   "execution_count": 30,
   "metadata": {
    "scrolled": true
   },
   "outputs": [
    {
     "data": {
      "text/plain": [
       "(0.9583333333333334, 1.0)"
      ]
     },
     "execution_count": 30,
     "metadata": {},
     "output_type": "execute_result"
    }
   ],
   "source": [
    "# Menscore hasil dari Support Vector Machine\n",
    "svmbk1317.score(Xbk1317_train, ybk1317_train), svmbk1317.score(Xbk1317_test, ybk1317_test)"
   ]
  },
  {
   "cell_type": "code",
   "execution_count": 31,
   "metadata": {},
   "outputs": [
    {
     "name": "stdout",
     "output_type": "stream",
     "text": [
      "[[ 1  0]\n",
      " [ 0 10]] Accuracy:  100.0\n"
     ]
    }
   ],
   "source": [
    "# Menampilkan akurasi dan confusion matrix dari Support Vector Machine\n",
    "conf_matrix_svmbk1317 = confusion_matrix(ybk1317_test, svmbk1317_y_pred)\n",
    "svmbk1317_accuracy = accuracy_score(ybk1317_test, svmbk1317_y_pred)\n",
    "print(conf_matrix_svmbk1317, \"Accuracy: \" , svmbk1317_accuracy*100)"
   ]
  },
  {
   "cell_type": "code",
   "execution_count": 32,
   "metadata": {},
   "outputs": [
    {
     "name": "stdout",
     "output_type": "stream",
     "text": [
      "              precision    recall  f1-score   support\n",
      "\n",
      "    GreyArea       1.00      1.00      1.00         1\n",
      "     Healthy       1.00      1.00      1.00        10\n",
      "\n",
      "    accuracy                           1.00        11\n",
      "   macro avg       1.00      1.00      1.00        11\n",
      "weighted avg       1.00      1.00      1.00        11\n",
      "\n"
     ]
    }
   ],
   "source": [
    "print(classification_report(ybk1317_test, svmbk1317_y_pred))"
   ]
  },
  {
   "cell_type": "code",
   "execution_count": 188,
   "metadata": {},
   "outputs": [],
   "source": [
    "#Menjalankan based learn Artificial Neural Network\n",
    "annbk1317 = MLPClassifier(hidden_layer_sizes=(6, 3), max_iter=500)\n",
    "annbk1317.fit(Xbk1317_train, ybk1317_train)\n",
    "annbk1317_y_pred = annbk1317.predict(Xbk1317_test)"
   ]
  },
  {
   "cell_type": "code",
   "execution_count": 189,
   "metadata": {},
   "outputs": [
    {
     "data": {
      "text/plain": [
       "(0.7916666666666666, 0.9090909090909091)"
      ]
     },
     "execution_count": 189,
     "metadata": {},
     "output_type": "execute_result"
    }
   ],
   "source": [
    "# Menscore hasil dari Artificial Neural Network\n",
    "annbk1317.score(Xbk1317_train, ybk1317_train), annbk1317.score(Xbk1317_test, ybk1317_test)"
   ]
  },
  {
   "cell_type": "code",
   "execution_count": 35,
   "metadata": {},
   "outputs": [
    {
     "name": "stdout",
     "output_type": "stream",
     "text": [
      "[[ 0  1]\n",
      " [ 0 10]] Accuracy:  90.9090909090909\n"
     ]
    }
   ],
   "source": [
    "# Menampilkan akurasi dan confusion matrix dari Artificial Neural Network\n",
    "conf_matrix_annbk1317 = confusion_matrix(ybk1317_test, annbk1317_y_pred)\n",
    "annbk1317_accuracy = accuracy_score(ybk1317_test, annbk1317_y_pred)\n",
    "print(conf_matrix_annbk1317, \"Accuracy: \" , annbk1317_accuracy*100)"
   ]
  },
  {
   "cell_type": "code",
   "execution_count": 36,
   "metadata": {
    "scrolled": true
   },
   "outputs": [
    {
     "name": "stdout",
     "output_type": "stream",
     "text": [
      "              precision    recall  f1-score   support\n",
      "\n",
      "    GreyArea       0.00      0.00      0.00         1\n",
      "     Healthy       0.91      1.00      0.95        10\n",
      "\n",
      "    accuracy                           0.91        11\n",
      "   macro avg       0.45      0.50      0.48        11\n",
      "weighted avg       0.83      0.91      0.87        11\n",
      "\n"
     ]
    }
   ],
   "source": [
    "print(classification_report(ybk1317_test, annbk1317_y_pred))"
   ]
  },
  {
   "cell_type": "code",
   "execution_count": 37,
   "metadata": {},
   "outputs": [],
   "source": [
    "#Menjalankan Ensemble Boosting\n",
    "boostbk1317 = AdaBoostClassifier(n_estimators=100, random_state=42)\n",
    "boostbk1317.fit(Xbk1317_train, ybk1317_train)\n",
    "boostbk1317_y_pred = boostbk1317.predict(Xbk1317_test)"
   ]
  },
  {
   "cell_type": "code",
   "execution_count": 38,
   "metadata": {},
   "outputs": [
    {
     "data": {
      "text/plain": [
       "(1.0, 1.0)"
      ]
     },
     "execution_count": 38,
     "metadata": {},
     "output_type": "execute_result"
    }
   ],
   "source": [
    "# Menscore hasil dari Ensemble Boosting\n",
    "boostbk1317.score(Xbk1317_train, ybk1317_train), boostbk1317.score(Xbk1317_test, ybk1317_test)"
   ]
  },
  {
   "cell_type": "code",
   "execution_count": 39,
   "metadata": {},
   "outputs": [
    {
     "name": "stdout",
     "output_type": "stream",
     "text": [
      "[[ 1  0]\n",
      " [ 0 10]] Accuracy:  100.0\n"
     ]
    }
   ],
   "source": [
    "# Menampilkan akurasi dan confusion matrix dari Ensemble Boosting\n",
    "conf_matrix_boostbk1317 = confusion_matrix(ybk1317_test, boostbk1317_y_pred)\n",
    "boostbk1317_accuracy = accuracy_score(ybk1317_test, boostbk1317_y_pred)\n",
    "print(conf_matrix_boostbk1317, \"Accuracy: \" , boostbk1317_accuracy*100)"
   ]
  },
  {
   "cell_type": "code",
   "execution_count": 40,
   "metadata": {},
   "outputs": [
    {
     "name": "stdout",
     "output_type": "stream",
     "text": [
      "              precision    recall  f1-score   support\n",
      "\n",
      "    GreyArea       1.00      1.00      1.00         1\n",
      "     Healthy       1.00      1.00      1.00        10\n",
      "\n",
      "    accuracy                           1.00        11\n",
      "   macro avg       1.00      1.00      1.00        11\n",
      "weighted avg       1.00      1.00      1.00        11\n",
      "\n"
     ]
    }
   ],
   "source": [
    "print(classification_report(ybk1317_test, boostbk1317_y_pred))"
   ]
  },
  {
   "cell_type": "code",
   "execution_count": 41,
   "metadata": {},
   "outputs": [
    {
     "data": {
      "text/plain": [
       "(0.9583333333333334, 1.0)"
      ]
     },
     "execution_count": 41,
     "metadata": {},
     "output_type": "execute_result"
    }
   ],
   "source": [
    "# Melakukan voting untuk melihat score terbaik dari model yang dibangun\n",
    "votingbk1317 = VotingClassifier(estimators=[('logregbk1317', logregbk1317), ('svmbk1317', svmbk1317), ('annbk1317', annbk1317), ('boostbk1317', boostbk1317)], voting='hard')\n",
    "votingbk1317.fit(Xbk1317_train, ybk1317_train)\n",
    "votingbk1317_pred = votingbk1317.predict(Xbk1317_test)\n",
    "# Menscore hasil dari Voting Classifier\n",
    "votingbk1317.score(Xbk1317_train, ybk1317_train), votingbk1317.score(Xbk1317_test, ybk1317_test)"
   ]
  },
  {
   "cell_type": "code",
   "execution_count": 187,
   "metadata": {},
   "outputs": [
    {
     "data": {
      "image/png": "[encoded data removed]",
      "text/plain": [
       "<Figure size 432x288 with 1 Axes>"
      ]
     },
     "metadata": {
      "needs_background": "light"
     },
     "output_type": "display_data"
    }
   ],
   "source": [
    "#Menampilkan grafik perbadingan score accuracy yang dihasilkan dari masing masing metode yang digunakan untuk dataset barangkonsumen1317\n",
    "\n",
    "#Variabel untuk plotting pada grafik batang\n",
    "accuracytrainbk1317 = [logregbk1317.score(Xbk1317_train, ybk1317_train), svmbk1317.score(Xbk1317_train, ybk1317_train), annbk1317.score(Xbk1317_train, ybk1317_train), boostbk1317.score(Xbk1317_train, ybk1317_train)]\n",
    "bars_bk1317 = ('Logistic Regression', 'SVM', 'ANN', 'Boosting')\n",
    "y_posbk1317 = np.arange(len(bars_bk1317))\n",
    " \n",
    "\n",
    "# Menambahkan grafik batang\n",
    "plt.bar(y_posbk1317, accuracytrainbk1317)\n",
    "\n",
    "# Menambahkan judul pada grafik\n",
    "plt.title('Pengujian terhadap data training BarangKonsumen1317')\n",
    "\n",
    "# Menambahkan label pada grafik\n",
    "plt.xlabel('Method / Model')\n",
    "plt.ylabel('Accuracy Score')\n",
    " \n",
    "# Menambahkan label untuk x axis dari variabel yang telah ditentukan\n",
    "plt.xticks(y_posbk1317, bars_bk1317)\n",
    " \n",
    "# Menampilkan grafik\n",
    "plt.show()"
   ]
  },
  {
   "cell_type": "code",
   "execution_count": 43,
   "metadata": {},
   "outputs": [
    {
     "data": {
      "image/png": "[encoded data removed]",
      "text/plain": [
       "<Figure size 432x288 with 1 Axes>"
      ]
     },
     "metadata": {
      "needs_background": "light"
     },
     "output_type": "display_data"
    }
   ],
   "source": [
    "#Menampilkan grafik perbadingan score accuracy yang dihasilkan dari masing masing metode yang digunakan untuk dataset barangkonsumen1317\n",
    "\n",
    "#Variabel untuk plotting pada grafik batang\n",
    "accuracytestbk1317 = [logregbk1317.score(Xbk1317_test, ybk1317_test), svmbk1317.score(Xbk1317_test, ybk1317_test), annbk1317.score(Xbk1317_test, ybk1317_test), boostbk1317.score(Xbk1317_test, ybk1317_test)]\n",
    "bars_bk1317 = ('Logistic Regression', 'SVM', 'ANN', 'Boosting')\n",
    "y_posbk1317 = np.arange(len(bars_bk1317))\n",
    " \n",
    "\n",
    "# Menambahkan grafik batang\n",
    "plt.bar(y_posbk1317, accuracytestbk1317)\n",
    "\n",
    "# Menambahkan judul pada grafik\n",
    "plt.title('Pengujian terhadap data testing BarangKonsumen1317')\n",
    "\n",
    "# Menambahkan label pada grafik\n",
    "plt.xlabel('Method / Model')\n",
    "plt.ylabel('Accuracy Score')\n",
    " \n",
    "# Menambahkan label untuk x axis dari variabel yang telah ditentukan\n",
    "plt.xticks(y_posbk1317, bars_bk1317)\n",
    " \n",
    "# Menampilkan grafik\n",
    "plt.show()"
   ]
  },
  {
   "cell_type": "code",
   "execution_count": 44,
   "metadata": {},
   "outputs": [
    {
     "name": "stdout",
     "output_type": "stream",
     "text": [
      "10 fold cross Validation:\n",
      "\n",
      "Accuracy: 0.85 (+/- 0.12) [Logistic Regression]\n"
     ]
    }
   ],
   "source": [
    "#Melakukan cross validation untuk memvalidasi score yang dihasilkan dari model yang dibangun\n",
    "from sklearn import model_selection\n",
    "print('10 fold cross Validation:\\n')\n",
    "\n",
    "for clf_logregbk1317, label in zip([logregbk1317], \n",
    "                      ['Logistic Regression']):\n",
    "\n",
    "    scores_logregbk1317 = model_selection.cross_val_score(clf_logregbk1317, Xbk1317, ybk1317, cv=10, scoring='accuracy')\n",
    "    print(\"Accuracy: %0.2f (+/- %0.2f) [%s]\" \n",
    "          % (scores_logregbk1317.mean(), scores_logregbk1317.std(), label))"
   ]
  },
  {
   "cell_type": "code",
   "execution_count": 45,
   "metadata": {},
   "outputs": [
    {
     "name": "stdout",
     "output_type": "stream",
     "text": [
      "10 fold cross Validation:\n",
      "\n",
      "Accuracy: 0.97 (+/- 0.07) [Support Vector Machine]\n"
     ]
    }
   ],
   "source": [
    "#Melakukan cross validation untuk memvalidasi score yang dihasilkan dari model yang dibangun\n",
    "from sklearn import model_selection\n",
    "print('10 fold cross Validation:\\n')\n",
    "\n",
    "for clf_svmbk1317, label in zip([svmbk1317], \n",
    "                      ['Support Vector Machine']):\n",
    "\n",
    "    scores_svmbk1317 = model_selection.cross_val_score(clf_svmbk1317, Xbk1317, ybk1317, cv=10, scoring='accuracy')\n",
    "    print(\"Accuracy: %0.2f (+/- %0.2f) [%s]\" \n",
    "          % (scores_svmbk1317.mean(), scores_svmbk1317.std(), label))"
   ]
  },
  {
   "cell_type": "code",
   "execution_count": 50,
   "metadata": {},
   "outputs": [
    {
     "name": "stdout",
     "output_type": "stream",
     "text": [
      "10 fold cross Validation:\n",
      "\n",
      "Accuracy: 0.93 (+/- 0.11) [Artificial Neural Network]\n"
     ]
    }
   ],
   "source": [
    "#Melakukan cross validation untuk memvalidasi score yang dihasilkan dari model yang dibangun\n",
    "from sklearn import model_selection\n",
    "print('10 fold cross Validation:\\n')\n",
    "\n",
    "for clf_annbk1317, label in zip([annbk1317], \n",
    "                      ['Artificial Neural Network']):\n",
    "\n",
    "    scores_annbk1317 = model_selection.cross_val_score(clf_annbk1317, Xbk1317, ybk1317, cv=10, scoring='accuracy')\n",
    "    print(\"Accuracy: %0.2f (+/- %0.2f) [%s]\" \n",
    "          % (scores_annbk1317.mean(), scores_annbk1317.std(), label))"
   ]
  },
  {
   "cell_type": "code",
   "execution_count": 47,
   "metadata": {},
   "outputs": [
    {
     "name": "stdout",
     "output_type": "stream",
     "text": [
      "10 fold cross Validation:\n",
      "\n",
      "Accuracy: 0.97 (+/- 0.07) [Boosting]\n"
     ]
    }
   ],
   "source": [
    "#Melakukan cross validation untuk memvalidasi score yang dihasilkan dari model yang dibangun\n",
    "from sklearn import model_selection\n",
    "print('10 fold cross Validation:\\n')\n",
    "\n",
    "for clf_boostbk1317, label in zip([boostbk1317], \n",
    "                      ['Boosting']):\n",
    "\n",
    "    scores_boostbk1317 = model_selection.cross_val_score(clf_boostbk1317, Xbk1317, ybk1317, cv=10, scoring='accuracy')\n",
    "    print(\"Accuracy: %0.2f (+/- %0.2f) [%s]\" \n",
    "          % (scores_boostbk1317.mean(), scores_boostbk1317.std(), label))"
   ]
  },
  {
   "cell_type": "code",
   "execution_count": 51,
   "metadata": {},
   "outputs": [
    {
     "data": {
      "image/png": "[encoded data removed]",
      "text/plain": [
       "<Figure size 432x288 with 1 Axes>"
      ]
     },
     "metadata": {
      "needs_background": "light"
     },
     "output_type": "display_data"
    }
   ],
   "source": [
    "#Menampilkan grafik perbadingan score accuracy yang dihasilkan dari model berdasarkan cross validation\n",
    "#pada datasetbarangkonsumen1317\n",
    "#Variabel untuk plotting pada grafik batang\n",
    "accuracyvalidationbk1317 = [scores_logregbk1317.mean(), scores_svmbk1317.mean(), scores_annbk1317.mean(), scores_boostbk1317.mean()]\n",
    "bars_bk1317 = ('Logistic Regression', 'SVM', 'ANN', 'Boosting')\n",
    "y_posbk1317 = np.arange(len(bars_bk1317))\n",
    " \n",
    "\n",
    "# Menambahkan grafik batang\n",
    "plt.bar(y_posbk1317, accuracyvalidationbk1317)\n",
    "\n",
    "# Menambahkan judul pada grafik\n",
    "plt.title('Pengujian terhadap BarangKonsumen1317 dengan cross validation')\n",
    "\n",
    "# Menambahkan label pada grafik\n",
    "plt.xlabel('Method / Model')\n",
    "plt.ylabel('Accuracy Score')\n",
    " \n",
    "# Menambahkan label untuk x axis dari variabel yang telah ditentukan\n",
    "plt.xticks(y_posbk1317, bars_bk1317)\n",
    " \n",
    "# Menampilkan grafik\n",
    "plt.show()"
   ]
  },
  {
   "cell_type": "code",
   "execution_count": 52,
   "metadata": {},
   "outputs": [
    {
     "data": {
      "text/html": [
       "<div>\n",
       "<style scoped>\n",
       "    .dataframe tbody tr th:only-of-type {\n",
       "        vertical-align: middle;\n",
       "    }\n",
       "\n",
       "    .dataframe tbody tr th {\n",
       "        vertical-align: top;\n",
       "    }\n",
       "\n",
       "    .dataframe thead th {\n",
       "        text-align: right;\n",
       "    }\n",
       "</style>\n",
       "<table border=\"1\" class=\"dataframe\">\n",
       "  <thead>\n",
       "    <tr style=\"text-align: right;\">\n",
       "      <th></th>\n",
       "      <th>fixed acidity</th>\n",
       "      <th>volatile acidity</th>\n",
       "      <th>citric acid</th>\n",
       "      <th>residual sugar</th>\n",
       "      <th>chlorides</th>\n",
       "      <th>free sulfur dioxide</th>\n",
       "      <th>total sulfur dioxide</th>\n",
       "      <th>density</th>\n",
       "      <th>pH</th>\n",
       "      <th>sulphates</th>\n",
       "      <th>alcohol</th>\n",
       "      <th>quality</th>\n",
       "    </tr>\n",
       "  </thead>\n",
       "  <tbody>\n",
       "    <tr>\n",
       "      <td>0</td>\n",
       "      <td>7.4</td>\n",
       "      <td>0.70</td>\n",
       "      <td>0.00</td>\n",
       "      <td>1.9</td>\n",
       "      <td>0.076</td>\n",
       "      <td>11.0</td>\n",
       "      <td>34.0</td>\n",
       "      <td>0.9978</td>\n",
       "      <td>3.51</td>\n",
       "      <td>0.56</td>\n",
       "      <td>9.4</td>\n",
       "      <td>bad</td>\n",
       "    </tr>\n",
       "    <tr>\n",
       "      <td>1</td>\n",
       "      <td>7.8</td>\n",
       "      <td>0.88</td>\n",
       "      <td>0.00</td>\n",
       "      <td>2.6</td>\n",
       "      <td>0.098</td>\n",
       "      <td>25.0</td>\n",
       "      <td>67.0</td>\n",
       "      <td>0.9968</td>\n",
       "      <td>3.20</td>\n",
       "      <td>0.68</td>\n",
       "      <td>9.8</td>\n",
       "      <td>bad</td>\n",
       "    </tr>\n",
       "    <tr>\n",
       "      <td>2</td>\n",
       "      <td>7.8</td>\n",
       "      <td>0.76</td>\n",
       "      <td>0.04</td>\n",
       "      <td>2.3</td>\n",
       "      <td>0.092</td>\n",
       "      <td>15.0</td>\n",
       "      <td>54.0</td>\n",
       "      <td>0.9970</td>\n",
       "      <td>3.26</td>\n",
       "      <td>0.65</td>\n",
       "      <td>9.8</td>\n",
       "      <td>bad</td>\n",
       "    </tr>\n",
       "    <tr>\n",
       "      <td>3</td>\n",
       "      <td>11.2</td>\n",
       "      <td>0.28</td>\n",
       "      <td>0.56</td>\n",
       "      <td>1.9</td>\n",
       "      <td>0.075</td>\n",
       "      <td>17.0</td>\n",
       "      <td>60.0</td>\n",
       "      <td>0.9980</td>\n",
       "      <td>3.16</td>\n",
       "      <td>0.58</td>\n",
       "      <td>9.8</td>\n",
       "      <td>good</td>\n",
       "    </tr>\n",
       "    <tr>\n",
       "      <td>4</td>\n",
       "      <td>7.4</td>\n",
       "      <td>0.70</td>\n",
       "      <td>0.00</td>\n",
       "      <td>1.9</td>\n",
       "      <td>0.076</td>\n",
       "      <td>11.0</td>\n",
       "      <td>34.0</td>\n",
       "      <td>0.9978</td>\n",
       "      <td>3.51</td>\n",
       "      <td>0.56</td>\n",
       "      <td>9.4</td>\n",
       "      <td>bad</td>\n",
       "    </tr>\n",
       "    <tr>\n",
       "      <td>5</td>\n",
       "      <td>7.4</td>\n",
       "      <td>0.66</td>\n",
       "      <td>0.00</td>\n",
       "      <td>1.8</td>\n",
       "      <td>0.075</td>\n",
       "      <td>13.0</td>\n",
       "      <td>40.0</td>\n",
       "      <td>0.9978</td>\n",
       "      <td>3.51</td>\n",
       "      <td>0.56</td>\n",
       "      <td>9.4</td>\n",
       "      <td>bad</td>\n",
       "    </tr>\n",
       "    <tr>\n",
       "      <td>6</td>\n",
       "      <td>7.9</td>\n",
       "      <td>0.60</td>\n",
       "      <td>0.06</td>\n",
       "      <td>1.6</td>\n",
       "      <td>0.069</td>\n",
       "      <td>15.0</td>\n",
       "      <td>59.0</td>\n",
       "      <td>0.9964</td>\n",
       "      <td>3.30</td>\n",
       "      <td>0.46</td>\n",
       "      <td>9.4</td>\n",
       "      <td>bad</td>\n",
       "    </tr>\n",
       "    <tr>\n",
       "      <td>7</td>\n",
       "      <td>7.3</td>\n",
       "      <td>0.65</td>\n",
       "      <td>0.00</td>\n",
       "      <td>1.2</td>\n",
       "      <td>0.065</td>\n",
       "      <td>15.0</td>\n",
       "      <td>21.0</td>\n",
       "      <td>0.9946</td>\n",
       "      <td>3.39</td>\n",
       "      <td>0.47</td>\n",
       "      <td>10.0</td>\n",
       "      <td>good</td>\n",
       "    </tr>\n",
       "    <tr>\n",
       "      <td>8</td>\n",
       "      <td>7.8</td>\n",
       "      <td>0.58</td>\n",
       "      <td>0.02</td>\n",
       "      <td>2.0</td>\n",
       "      <td>0.073</td>\n",
       "      <td>9.0</td>\n",
       "      <td>18.0</td>\n",
       "      <td>0.9968</td>\n",
       "      <td>3.36</td>\n",
       "      <td>0.57</td>\n",
       "      <td>9.5</td>\n",
       "      <td>good</td>\n",
       "    </tr>\n",
       "    <tr>\n",
       "      <td>9</td>\n",
       "      <td>7.5</td>\n",
       "      <td>0.50</td>\n",
       "      <td>0.36</td>\n",
       "      <td>6.1</td>\n",
       "      <td>0.071</td>\n",
       "      <td>17.0</td>\n",
       "      <td>102.0</td>\n",
       "      <td>0.9978</td>\n",
       "      <td>3.35</td>\n",
       "      <td>0.80</td>\n",
       "      <td>10.5</td>\n",
       "      <td>bad</td>\n",
       "    </tr>\n",
       "  </tbody>\n",
       "</table>\n",
       "</div>"
      ],
      "text/plain": [
       "   fixed acidity  volatile acidity  citric acid  residual sugar  chlorides  \\\n",
       "0            7.4              0.70         0.00             1.9      0.076   \n",
       "1            7.8              0.88         0.00             2.6      0.098   \n",
       "2            7.8              0.76         0.04             2.3      0.092   \n",
       "3           11.2              0.28         0.56             1.9      0.075   \n",
       "4            7.4              0.70         0.00             1.9      0.076   \n",
       "5            7.4              0.66         0.00             1.8      0.075   \n",
       "6            7.9              0.60         0.06             1.6      0.069   \n",
       "7            7.3              0.65         0.00             1.2      0.065   \n",
       "8            7.8              0.58         0.02             2.0      0.073   \n",
       "9            7.5              0.50         0.36             6.1      0.071   \n",
       "\n",
       "   free sulfur dioxide  total sulfur dioxide  density    pH  sulphates  \\\n",
       "0                 11.0                  34.0   0.9978  3.51       0.56   \n",
       "1                 25.0                  67.0   0.9968  3.20       0.68   \n",
       "2                 15.0                  54.0   0.9970  3.26       0.65   \n",
       "3                 17.0                  60.0   0.9980  3.16       0.58   \n",
       "4                 11.0                  34.0   0.9978  3.51       0.56   \n",
       "5                 13.0                  40.0   0.9978  3.51       0.56   \n",
       "6                 15.0                  59.0   0.9964  3.30       0.46   \n",
       "7                 15.0                  21.0   0.9946  3.39       0.47   \n",
       "8                  9.0                  18.0   0.9968  3.36       0.57   \n",
       "9                 17.0                 102.0   0.9978  3.35       0.80   \n",
       "\n",
       "   alcohol quality  \n",
       "0      9.4     bad  \n",
       "1      9.8     bad  \n",
       "2      9.8     bad  \n",
       "3      9.8    good  \n",
       "4      9.4     bad  \n",
       "5      9.4     bad  \n",
       "6      9.4     bad  \n",
       "7     10.0    good  \n",
       "8      9.5    good  \n",
       "9     10.5     bad  "
      ]
     },
     "execution_count": 52,
     "metadata": {},
     "output_type": "execute_result"
    }
   ],
   "source": [
    "# Import Datasets Consumer Goods/Barang Konsumen di Indonesia tahun (2013-2017)\n",
    "datawine = pd.read_csv('datasets/klasifikasiwine.csv')\n",
    "\n",
    "# Memilih fitur yang akan digunakan dimana X adalah nilai dari kolom X1 sampai Z-Score , \n",
    "# dan Y adalah data target dari class.\n",
    "feature_cols2 = ['X1','X2','X3','X4','X5','Z-Score']\n",
    "Xwine = datawine.iloc[:, 0:10].values\n",
    "ywine = datawine.iloc[:, 11].values\n",
    "# Menampilkan datasets\n",
    "datawine.head(10)"
   ]
  },
  {
   "cell_type": "code",
   "execution_count": 110,
   "metadata": {},
   "outputs": [],
   "source": [
    "# Membagi dataset kedalam training set dan test set\n",
    "Xwine_train, Xwine_test, ywine_train, ywine_test = train_test_split (Xwine, ywine, test_size=0.10, random_state=1)"
   ]
  },
  {
   "cell_type": "code",
   "execution_count": 111,
   "metadata": {},
   "outputs": [],
   "source": [
    "#Menjalankan Logistic Regression\n",
    "logregwine = LogisticRegression()\n",
    "logregwine.fit(Xwine_train, ywine_train)\n",
    "logregwine_y_pred = logregwine.predict(Xwine_test)"
   ]
  },
  {
   "cell_type": "code",
   "execution_count": 112,
   "metadata": {},
   "outputs": [
    {
     "data": {
      "text/plain": [
       "(0.6963168867268936, 0.76875)"
      ]
     },
     "execution_count": 112,
     "metadata": {},
     "output_type": "execute_result"
    }
   ],
   "source": [
    "# Menscore hasil dari Logistic Regression\n",
    "logregwine.score(Xwine_train, ywine_train), logregwine.score(Xwine_test, ywine_test)"
   ]
  },
  {
   "cell_type": "code",
   "execution_count": 113,
   "metadata": {},
   "outputs": [
    {
     "name": "stdout",
     "output_type": "stream",
     "text": [
      "[[48 24]\n",
      " [13 75]] Accuracy:  76.875\n"
     ]
    }
   ],
   "source": [
    "# Menampilkan akurasi dan confusion matrix dari Logistic Regression\n",
    "conf_matrix_logregwine = confusion_matrix(ywine_test, logregwine_y_pred)\n",
    "logregwine_accuracy = accuracy_score(ywine_test, logregwine_y_pred)\n",
    "print(conf_matrix_logregwine, \"Accuracy: \" , logregwine_accuracy*100)"
   ]
  },
  {
   "cell_type": "code",
   "execution_count": 114,
   "metadata": {},
   "outputs": [
    {
     "name": "stdout",
     "output_type": "stream",
     "text": [
      "              precision    recall  f1-score   support\n",
      "\n",
      "         bad       0.79      0.67      0.72        72\n",
      "        good       0.76      0.85      0.80        88\n",
      "\n",
      "    accuracy                           0.77       160\n",
      "   macro avg       0.77      0.76      0.76       160\n",
      "weighted avg       0.77      0.77      0.77       160\n",
      "\n"
     ]
    }
   ],
   "source": [
    "print(classification_report(ywine_test, logregwine_y_pred))"
   ]
  },
  {
   "cell_type": "code",
   "execution_count": 120,
   "metadata": {},
   "outputs": [],
   "source": [
    "#Menjalankan based Learn Support Vector Machine\n",
    "svmwine = SVC(gamma=\"auto\", random_state=123)\n",
    "svmwine.fit(Xwine_train, ywine_train)\n",
    "svmwine_y_pred = svmwine.predict(Xwine_test)"
   ]
  },
  {
   "cell_type": "code",
   "execution_count": 121,
   "metadata": {},
   "outputs": [
    {
     "data": {
      "text/plain": [
       "(0.8151494093120223, 0.65)"
      ]
     },
     "execution_count": 121,
     "metadata": {},
     "output_type": "execute_result"
    }
   ],
   "source": [
    "# Menscore hasil dari Support Vector Machine\n",
    "svmwine.score(Xwine_train, ywine_train), svmwine.score(Xwine_test, ywine_test)"
   ]
  },
  {
   "cell_type": "code",
   "execution_count": 122,
   "metadata": {},
   "outputs": [
    {
     "name": "stdout",
     "output_type": "stream",
     "text": [
      "[[46 26]\n",
      " [30 58]] Accuracy:  65.0\n"
     ]
    }
   ],
   "source": [
    "# Menampilkan akurasi dan confusion matrix dari Support Vector Machine\n",
    "conf_matrix_svmwine = confusion_matrix(ywine_test, svmwine_y_pred)\n",
    "svmwine_accuracy = accuracy_score(ywine_test, svmwine_y_pred)\n",
    "print(conf_matrix_svmwine, \"Accuracy: \" , svmwine_accuracy*100)"
   ]
  },
  {
   "cell_type": "code",
   "execution_count": 123,
   "metadata": {},
   "outputs": [
    {
     "name": "stdout",
     "output_type": "stream",
     "text": [
      "              precision    recall  f1-score   support\n",
      "\n",
      "         bad       0.61      0.64      0.62        72\n",
      "        good       0.69      0.66      0.67        88\n",
      "\n",
      "    accuracy                           0.65       160\n",
      "   macro avg       0.65      0.65      0.65       160\n",
      "weighted avg       0.65      0.65      0.65       160\n",
      "\n"
     ]
    }
   ],
   "source": [
    "print(classification_report(ywine_test, svmwine_y_pred))"
   ]
  },
  {
   "cell_type": "code",
   "execution_count": 140,
   "metadata": {},
   "outputs": [],
   "source": [
    "#Menjalankan based learn Artificial Neural Network\n",
    "annwine = MLPClassifier(hidden_layer_sizes=(10, 8, 6, 4), max_iter=1000)\n",
    "annwine.fit(Xwine_train, ywine_train)\n",
    "annwine_y_pred = annwine.predict(Xwine_test)"
   ]
  },
  {
   "cell_type": "code",
   "execution_count": 141,
   "metadata": {},
   "outputs": [
    {
     "data": {
      "text/plain": [
       "(0.6838082001389854, 0.73125)"
      ]
     },
     "execution_count": 141,
     "metadata": {},
     "output_type": "execute_result"
    }
   ],
   "source": [
    "# Menscore hasil dari Artificial Neural Network\n",
    "annwine.score(Xwine_train, ywine_train), annwine.score(Xwine_test, ywine_test)"
   ]
  },
  {
   "cell_type": "code",
   "execution_count": 143,
   "metadata": {},
   "outputs": [
    {
     "name": "stdout",
     "output_type": "stream",
     "text": [
      "[[46 26]\n",
      " [17 71]] Accuracy:  73.125\n"
     ]
    }
   ],
   "source": [
    "# Menampilkan akurasi dan confusion matrix dari Artificial Neural Network\n",
    "conf_matrix_annwine = confusion_matrix(ywine_test, annwine_y_pred)\n",
    "annwine_accuracy = accuracy_score(ywine_test, annwine_y_pred)\n",
    "print(conf_matrix_annwine, \"Accuracy: \" , annwine_accuracy*100)"
   ]
  },
  {
   "cell_type": "code",
   "execution_count": 144,
   "metadata": {},
   "outputs": [
    {
     "name": "stdout",
     "output_type": "stream",
     "text": [
      "              precision    recall  f1-score   support\n",
      "\n",
      "         bad       0.73      0.64      0.68        72\n",
      "        good       0.73      0.81      0.77        88\n",
      "\n",
      "    accuracy                           0.73       160\n",
      "   macro avg       0.73      0.72      0.72       160\n",
      "weighted avg       0.73      0.73      0.73       160\n",
      "\n"
     ]
    }
   ],
   "source": [
    "print(classification_report(ywine_test, annwine_y_pred))"
   ]
  },
  {
   "cell_type": "code",
   "execution_count": 145,
   "metadata": {},
   "outputs": [],
   "source": [
    "#Menjalankan Ensemble Boosting\n",
    "boostwine = AdaBoostClassifier(n_estimators=100, random_state=42)\n",
    "boostwine.fit(Xwine_train, ywine_train)\n",
    "boostwine_y_pred = boostwine.predict(Xwine_test)"
   ]
  },
  {
   "cell_type": "code",
   "execution_count": 146,
   "metadata": {},
   "outputs": [
    {
     "data": {
      "text/plain": [
       "(0.7894371091035441, 0.8125)"
      ]
     },
     "execution_count": 146,
     "metadata": {},
     "output_type": "execute_result"
    }
   ],
   "source": [
    "# Menscore hasil dari Ensemble Boosting\n",
    "boostwine.score(Xwine_train, ywine_train), boostwine.score(Xwine_test, ywine_test)"
   ]
  },
  {
   "cell_type": "code",
   "execution_count": 147,
   "metadata": {},
   "outputs": [
    {
     "name": "stdout",
     "output_type": "stream",
     "text": [
      "[[53 19]\n",
      " [11 77]] Accuracy:  81.25\n"
     ]
    }
   ],
   "source": [
    "# Menampilkan akurasi dan confusion matrix dari Ensemble Boosting\n",
    "conf_matrix_boostwine = confusion_matrix(ywine_test, boostwine_y_pred)\n",
    "boostwine_accuracy = accuracy_score(ywine_test, boostwine_y_pred)\n",
    "print(conf_matrix_boostwine, \"Accuracy: \" , boostwine_accuracy*100)"
   ]
  },
  {
   "cell_type": "code",
   "execution_count": 148,
   "metadata": {},
   "outputs": [
    {
     "name": "stdout",
     "output_type": "stream",
     "text": [
      "              precision    recall  f1-score   support\n",
      "\n",
      "         bad       0.83      0.74      0.78        72\n",
      "        good       0.80      0.88      0.84        88\n",
      "\n",
      "    accuracy                           0.81       160\n",
      "   macro avg       0.82      0.81      0.81       160\n",
      "weighted avg       0.81      0.81      0.81       160\n",
      "\n"
     ]
    }
   ],
   "source": [
    "print(classification_report(ywine_test, boostwine_y_pred))"
   ]
  },
  {
   "cell_type": "code",
   "execution_count": 154,
   "metadata": {},
   "outputs": [
    {
     "data": {
      "text/plain": [
       "(0.7658095899930507, 0.7875)"
      ]
     },
     "execution_count": 154,
     "metadata": {},
     "output_type": "execute_result"
    }
   ],
   "source": [
    "# Melakukan voting untuk melihat score terbaik dari model yang dibangun\n",
    "votingwine = VotingClassifier(estimators=[('logregwine', logregwine), ('svmwine', svmwine), ('annwine', annwine), ('boostwine', boostwine)], voting='hard')\n",
    "votingwine.fit(Xwine_train, ywine_train)\n",
    "votingwine_pred = votingwine.predict(Xwine_test)\n",
    "# Menscore hasil dari Voting Classifier\n",
    "votingwine.score(Xwine_train, ywine_train), votingwine.score(Xwine_test, ywine_test)"
   ]
  },
  {
   "cell_type": "code",
   "execution_count": 158,
   "metadata": {},
   "outputs": [
    {
     "data": {
      "image/png": "[encoded data removed]",
      "text/plain": [
       "<Figure size 432x288 with 1 Axes>"
      ]
     },
     "metadata": {
      "needs_background": "light"
     },
     "output_type": "display_data"
    }
   ],
   "source": [
    "#Menampilkan grafik perbadingan score accuracy yang dihasilkan dari masing masing metode yang digunakan untuk dataset klasifikasiwine\n",
    "#Variabel untuk plotting pada grafik batang\n",
    "accuracytrainwine = [logregwine.score(Xwine_train, ywine_train), svmwine.score(Xwine_train, ywine_train), annwine.score(Xwine_train, ywine_train), boostwine.score(Xwine_train, ywine_train)]\n",
    "bars_wine = ('Logistic Regression', 'SVM', 'ANN', 'Boosting')\n",
    "y_wine = np.arange(len(bars_wine))\n",
    " \n",
    "\n",
    "# Menambahkan grafik batang\n",
    "plt.bar(y_wine, accuracytrainwine)\n",
    "\n",
    "# Menambahkan judul pada grafik\n",
    "plt.title('Pengujian terhadap data training KlasifikasiWine')\n",
    "\n",
    "# Menambahkan label pada grafik\n",
    "plt.xlabel('Method / Model')\n",
    "plt.ylabel('Accuracy Score')\n",
    " \n",
    "# Menambahkan label untuk x axis dari variabel yang telah ditentukan\n",
    "plt.xticks(y_wine, bars_wine)\n",
    " \n",
    "# Menampilkan grafik\n",
    "plt.show()"
   ]
  },
  {
   "cell_type": "code",
   "execution_count": 157,
   "metadata": {},
   "outputs": [
    {
     "data": {
      "image/png": "[encoded data removed]",
      "text/plain": [
       "<Figure size 432x288 with 1 Axes>"
      ]
     },
     "metadata": {
      "needs_background": "light"
     },
     "output_type": "display_data"
    }
   ],
   "source": [
    "#Menampilkan grafik perbadingan score accuracy yang dihasilkan dari masing masing metode yang digunakan untuk dataset klasifikasiwine\n",
    "#Variabel untuk plotting pada grafik batang\n",
    "accuracytestwine = [logregwine.score(Xwine_test, ywine_test), svmwine.score(Xwine_test, ywine_test), annwine.score(Xwine_test, ywine_test), boostwine.score(Xwine_test, ywine_test)]\n",
    "bars_wine = ('Logistic Regression', 'SVM', 'ANN', 'Boosting')\n",
    "y_wine = np.arange(len(bars_wine))\n",
    " \n",
    "\n",
    "# Menambahkan grafik batang\n",
    "plt.bar(y_wine, accuracytestwine)\n",
    "\n",
    "# Menambahkan judul pada grafik\n",
    "plt.title('Pengujian terhadap data testing KlasifikasiWine')\n",
    "\n",
    "# Menambahkan label pada grafik\n",
    "plt.xlabel('Method / Model')\n",
    "plt.ylabel('Accuracy Score')\n",
    " \n",
    "# Menambahkan label untuk x axis dari variabel yang telah ditentukan\n",
    "plt.xticks(y_wine, bars_wine)\n",
    " \n",
    "# Menampilkan grafik\n",
    "plt.show()"
   ]
  },
  {
   "cell_type": "code",
   "execution_count": 160,
   "metadata": {},
   "outputs": [
    {
     "name": "stdout",
     "output_type": "stream",
     "text": [
      "10 fold cross Validation:\n",
      "\n",
      "Accuracy: 0.69 (+/- 0.06) [Logistic Regression]\n"
     ]
    }
   ],
   "source": [
    "#Melakukan cross validation untuk memvalidasi score yang dihasilkan dari model yang dibangun\n",
    "from sklearn import model_selection\n",
    "print('10 fold cross Validation:\\n')\n",
    "\n",
    "for clf_logregwine, label in zip([logregwine], \n",
    "                      ['Logistic Regression']):\n",
    "\n",
    "    scores_logregwine = model_selection.cross_val_score(clf_logregwine, Xwine, ywine, cv=10, scoring='accuracy')\n",
    "    print(\"Accuracy: %0.2f (+/- %0.2f) [%s]\" \n",
    "          % (scores_logregwine.mean(), scores_logregwine.std(), label))"
   ]
  },
  {
   "cell_type": "code",
   "execution_count": 161,
   "metadata": {},
   "outputs": [
    {
     "name": "stdout",
     "output_type": "stream",
     "text": [
      "10 fold cross Validation:\n",
      "\n",
      "Accuracy: 0.60 (+/- 0.06) [Support Vector Machine]\n"
     ]
    }
   ],
   "source": [
    "#Melakukan cross validation untuk memvalidasi score yang dihasilkan dari model yang dibangun\n",
    "from sklearn import model_selection\n",
    "print('10 fold cross Validation:\\n')\n",
    "\n",
    "for clf_svmwine, label in zip([svmwine], \n",
    "                      ['Support Vector Machine']):\n",
    "\n",
    "    scores_svmwine = model_selection.cross_val_score(clf_svmwine, Xwine, ywine, cv=10, scoring='accuracy')\n",
    "    print(\"Accuracy: %0.2f (+/- %0.2f) [%s]\" \n",
    "          % (scores_svmwine.mean(), scores_svmwine.std(), label))"
   ]
  },
  {
   "cell_type": "code",
   "execution_count": 162,
   "metadata": {},
   "outputs": [
    {
     "name": "stdout",
     "output_type": "stream",
     "text": [
      "10 fold cross Validation:\n",
      "\n",
      "Accuracy: 0.64 (+/- 0.07) [Artificial Neural Network]\n"
     ]
    }
   ],
   "source": [
    "#Melakukan cross validation untuk memvalidasi score yang dihasilkan dari model yang dibangun\n",
    "from sklearn import model_selection\n",
    "print('10 fold cross Validation:\\n')\n",
    "\n",
    "for clf_annwine, label in zip([annwine], \n",
    "                      ['Artificial Neural Network']):\n",
    "\n",
    "    scores_annwine = model_selection.cross_val_score(clf_annwine, Xwine, ywine, cv=10, scoring='accuracy')\n",
    "    print(\"Accuracy: %0.2f (+/- %0.2f) [%s]\" \n",
    "          % (scores_annwine.mean(), scores_annwine.std(), label))"
   ]
  },
  {
   "cell_type": "code",
   "execution_count": 163,
   "metadata": {},
   "outputs": [
    {
     "name": "stdout",
     "output_type": "stream",
     "text": [
      "10 fold cross Validation:\n",
      "\n",
      "Accuracy: 0.69 (+/- 0.06) [Boosting]\n"
     ]
    }
   ],
   "source": [
    "#Melakukan cross validation untuk memvalidasi score yang dihasilkan dari model yang dibangun\n",
    "from sklearn import model_selection\n",
    "print('10 fold cross Validation:\\n')\n",
    "\n",
    "for clf_boostwine, label in zip([boostwine], \n",
    "                      ['Boosting']):\n",
    "\n",
    "    scores_boostwine = model_selection.cross_val_score(clf_boostwine, Xwine, ywine, cv=10, scoring='accuracy')\n",
    "    print(\"Accuracy: %0.2f (+/- %0.2f) [%s]\" \n",
    "          % (scores_boostwine.mean(), scores_boostwine.std(), label))"
   ]
  },
  {
   "cell_type": "code",
   "execution_count": 164,
   "metadata": {},
   "outputs": [
    {
     "data": {
      "image/png": "[encoded data removed]",
      "text/plain": [
       "<Figure size 432x288 with 1 Axes>"
      ]
     },
     "metadata": {
      "needs_background": "light"
     },
     "output_type": "display_data"
    }
   ],
   "source": [
    "#Menampilkan grafik perbadingan score accuracy yang dihasilkan dari model berdasarkan cross validation\n",
    "#pada dataset klasifikasiwine\n",
    "#Variabel untuk plotting pada grafik batang\n",
    "accuracyvalidationwine = [scores_logregwine.mean(), scores_svmwine.mean(), scores_annwine.mean(), scores_boostwine.mean()]\n",
    "bars_wine = ('Logistic Regression', 'SVM', 'ANN', 'Boosting')\n",
    "y_wine = np.arange(len(bars_wine))\n",
    " \n",
    "\n",
    "# Menambahkan grafik batang\n",
    "plt.bar(y_wine, accuracyvalidationwine)\n",
    "\n",
    "# Menambahkan judul pada grafik\n",
    "plt.title('Pengujian terhadap KlasifikasiWine dengan cross validation')\n",
    "\n",
    "# Menambahkan label pada grafik\n",
    "plt.xlabel('Method / Model')\n",
    "plt.ylabel('Accuracy Score')\n",
    " \n",
    "# Menambahkan label untuk x axis dari variabel yang telah ditentukan\n",
    "plt.xticks(y_wine, bars_wine)\n",
    " \n",
    "# Menampilkan grafik\n",
    "plt.show()"
   ]
  }
 ],
 "metadata": {
  "kernelspec": {
   "display_name": "Python 3",
   "language": "python",
   "name": "python3"
  },
  "language_info": {
   "codemirror_mode": {
    "name": "ipython",
    "version": 3
   },
   "file_extension": ".py",
   "mimetype": "text/x-python",
   "name": "python",
   "nbconvert_exporter": "python",
   "pygments_lexer": "ipython3",
   "version": "3.7.4"
  }
 },
 "nbformat": 4,
 "nbformat_minor": 4
}
